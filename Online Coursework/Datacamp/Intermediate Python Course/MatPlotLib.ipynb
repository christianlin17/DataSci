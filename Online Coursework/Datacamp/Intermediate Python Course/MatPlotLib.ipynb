{
 "cells": [
  {
   "cell_type": "markdown",
   "metadata": {},
   "source": [
    "# DataCamp: Intermediate Python\n",
    "Christian Lin <br>\n",
    "Start: 9/25/20 <br>\n",
    "End: <br>\n",
    "<br>\n",
    "Current: https://campus.datacamp.com/courses/intermediate-python/dictionaries-pandas?ex=1"
   ]
  },
  {
   "cell_type": "code",
   "execution_count": 3,
   "metadata": {
    "scrolled": true
   },
   "outputs": [
    {
     "data": {
      "image/png": "[encoded data removed]",
      "text/plain": [
       "<matplotlib.figure.Figure at 0x1bf96fe0940>"
      ]
     },
     "metadata": {},
     "output_type": "display_data"
    }
   ],
   "source": [
    "import matplotlib.pyplot as plt\n",
    "year = [1950, 1970, 1990, 2010]\n",
    "pop = [2.519, 3.692, 5.263, 6.972]\n",
    "\n",
    "plt.scatter(year, pop)\n",
    "plt.show()\n"
   ]
  },
  {
   "cell_type": "markdown",
   "metadata": {},
   "source": [
    "## Making a Dataframe with Lists and Series\n"
   ]
  },
  {
   "cell_type": "code",
   "execution_count": 3,
   "metadata": {},
   "outputs": [
    {
     "name": "stdout",
     "output_type": "stream",
     "text": [
      "   Article    Author\n",
      "0      210  Jitender\n",
      "1      211   Purnima\n",
      "2      114     Arpit\n",
      "3      178     Jyoti\n"
     ]
    }
   ],
   "source": [
    "# Create a Series and Combine them into Dataframes\n",
    "\n",
    "import pandas as pd\n",
    "import matplotlib.pyplot as plt\n",
    "\n",
    "author = ['Jitender', 'Purnima', 'Arpit', 'Jyoti']\n",
    "article = [210, 211, 114, 178]\n",
    "\n",
    "auth_series = pd.Series(author)\n",
    "art_series = pd.Series(article)\n",
    "\n",
    "frame = {'Author': auth_series, \n",
    "        'Article': art_series}\n",
    "\n",
    "result = pd.DataFrame(frame)\n",
    "\n",
    "print(result)"
   ]
  },
  {
   "cell_type": "code",
   "execution_count": 7,
   "metadata": {},
   "outputs": [
    {
     "name": "stdout",
     "output_type": "stream",
     "text": [
      "   Article    Author  Age\n",
      "0      210  Jitender   21\n",
      "1      211   Purnima   21\n",
      "2      114     Arpit   24\n",
      "3      178     Jyoti   23\n"
     ]
    }
   ],
   "source": [
    "# Appending a new column \n",
    "\n",
    "age = [21, 21, 24, 23]\n",
    "result['Age'] = pd.Series(age)\n",
    "print(result)"
   ]
  },
  {
   "cell_type": "code",
   "execution_count": 27,
   "metadata": {},
   "outputs": [
    {
     "name": "stdout",
     "output_type": "stream",
     "text": [
      "   Age\n",
      "0   21\n",
      "1   21\n",
      "2   24\n",
      "3   23\n",
      "\n",
      "   Age    Author\n",
      "0   21  Jitender\n",
      "1   21   Purnima\n",
      "2   24     Arpit\n"
     ]
    }
   ],
   "source": [
    "# Print columns of df result for\n",
    "print(result[['Age']])\n",
    "print()\n",
    "\n",
    "# Index into rows 0-2 with columns Age and Author using the Loc \n",
    "print(result.loc[:2, ['Age', 'Author']])"
   ]
  },
  {
   "cell_type": "markdown",
   "metadata": {},
   "source": [
    "## Importing CSV and Creating Dataframe\n"
   ]
  },
  {
   "cell_type": "code",
   "execution_count": 37,
   "metadata": {},
   "outputs": [
    {
     "name": "stdout",
     "output_type": "stream",
     "text": [
      "                 Date           Location             Home Team  \\\n",
      "W1   13/09/2020 10:00   Gillette Stadium  New England Patriots   \n",
      "W2   20/09/2020 17:20  CenturyLink Field      Seattle Seahawks   \n",
      "W3   27/09/2020 10:00   Gillette Stadium  New England Patriots   \n",
      "W4   04/10/2020 13:25  Arrowhead Stadium    Kansas City Chiefs   \n",
      "W5   11/10/2020 10:00   Gillette Stadium  New England Patriots   \n",
      "W6   25/10/2020 13:25   Gillette Stadium  New England Patriots   \n",
      "W7   01/11/2020 10:00      New Era Field         Buffalo Bills   \n",
      "W8   09/11/2020 17:15    MetLife Stadium         New York Jets   \n",
      "W9   15/11/2020 17:20   Gillette Stadium  New England Patriots   \n",
      "W10  22/11/2020 10:00        NRG Stadium        Houston Texans   \n",
      "W11  29/11/2020 10:00   Gillette Stadium  New England Patriots   \n",
      "W12  06/12/2020 13:25       SoFi Stadium  Los Angeles Chargers   \n",
      "W13  10/12/2020 17:20       SoFi Stadium      Los Angeles Rams   \n",
      "W14  20/12/2020 10:00  Hard Rock Stadium        Miami Dolphins   \n",
      "W15  28/12/2020 17:15   Gillette Stadium  New England Patriots   \n",
      "W16  03/01/2021 10:00   Gillette Stadium  New England Patriots   \n",
      "\n",
      "                Away Team   Result  \n",
      "W1         Miami Dolphins  21 - 11  \n",
      "W2   New England Patriots  35 - 30  \n",
      "W3      Las Vegas Raiders  36 - 20  \n",
      "W4   New England Patriots      NaN  \n",
      "W5         Denver Broncos      NaN  \n",
      "W6    San Francisco 49ers      NaN  \n",
      "W7   New England Patriots      NaN  \n",
      "W8   New England Patriots      NaN  \n",
      "W9       Baltimore Ravens      NaN  \n",
      "W10  New England Patriots      NaN  \n",
      "W11     Arizona Cardinals      NaN  \n",
      "W12  New England Patriots      NaN  \n",
      "W13  New England Patriots      NaN  \n",
      "W14  New England Patriots      NaN  \n",
      "W15         Buffalo Bills      NaN  \n",
      "W16         New York Jets      NaN  \n"
     ]
    }
   ],
   "source": [
    "#CSV imported using pd.read_csv is already in DataFrame Type\n",
    "import pandas as pd\n",
    "\n",
    "df = pd.read_csv('Pats_Schedule.csv')\n",
    "\n",
    "sched_index = ['W1', 'W2', 'W3', 'W4', 'W5', 'W6', 'W7', 'W8', 'W9', 'W10', 'W11', 'W12', 'W13', 'W14', 'W15', 'W16']\n",
    "df.index = sched_index\n",
    "\n",
    "# Delete the now redundant 'Round Number' row, axis 1 specifying I mean columns and inplace means permanently\n",
    "df.drop(['Round Number'], axis=1, inplace=True)\n",
    "\n",
    "print(df)"
   ]
  }
 ],
 "metadata": {
  "kernelspec": {
   "display_name": "Python 3",
   "language": "python",
   "name": "python3"
  },
  "language_info": {
   "codemirror_mode": {
    "name": "ipython",
    "version": 3
   },
   "file_extension": ".py",
   "mimetype": "text/x-python",
   "name": "python",
   "nbconvert_exporter": "python",
   "pygments_lexer": "ipython3",
   "version": "3.6.4"
  }
 },
 "nbformat": 4,
 "nbformat_minor": 2
}
